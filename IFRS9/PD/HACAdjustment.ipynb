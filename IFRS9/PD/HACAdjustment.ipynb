{
 "cells": [
  {
   "cell_type": "code",
   "execution_count": 1,
   "metadata": {
    "id": "PNqLvhRsYbJV"
   },
   "outputs": [],
   "source": [
    "# Set auto reload\n",
    "%reload_ext autoreload\n",
    "%autoreload 2"
   ]
  },
  {
   "cell_type": "code",
   "execution_count": 2,
   "metadata": {
    "id": "fbpxEZ2TYmiY"
   },
   "outputs": [],
   "source": [
    "# Import libraries\n",
    "import warnings\n",
    "import pandas as pd\n",
    "import numpy as np\n",
    "import statsmodels.api as sm\n",
    "import statsmodels.formula.api as smf\n",
    "\n",
    "from scipy.special import logit\n",
    "\n",
    "# Config\n",
    "%config InlineBackend.figure_format = 'retina' #Retina display\n",
    "warnings.filterwarnings('ignore') #Disable warning"
   ]
  },
  {
   "cell_type": "code",
   "execution_count": 3,
   "metadata": {
    "colab": {
     "base_uri": "https://localhost:8080/",
     "height": 238
    },
    "id": "iykLu-sCYlsC",
    "outputId": "a9479c5c-e41e-4e3c-c4bd-9f61ef20d8f2"
   },
   "outputs": [
    {
     "data": {
      "text/html": [
       "\n",
       "  <div id=\"df-72df9d1d-330c-47f5-9f6b-272d441b9f7b\">\n",
       "    <div class=\"colab-df-container\">\n",
       "      <div>\n",
       "<style scoped>\n",
       "    .dataframe tbody tr th:only-of-type {\n",
       "        vertical-align: middle;\n",
       "    }\n",
       "\n",
       "    .dataframe tbody tr th {\n",
       "        vertical-align: top;\n",
       "    }\n",
       "\n",
       "    .dataframe thead th {\n",
       "        text-align: right;\n",
       "    }\n",
       "</style>\n",
       "<table border=\"1\" class=\"dataframe\">\n",
       "  <thead>\n",
       "    <tr style=\"text-align: right;\">\n",
       "      <th></th>\n",
       "      <th>logitODR</th>\n",
       "      <th>GDP_C_lg12</th>\n",
       "      <th>MPI_C_lg12</th>\n",
       "    </tr>\n",
       "    <tr>\n",
       "      <th>Date</th>\n",
       "      <th></th>\n",
       "      <th></th>\n",
       "      <th></th>\n",
       "    </tr>\n",
       "  </thead>\n",
       "  <tbody>\n",
       "    <tr>\n",
       "      <th>2014-01-01</th>\n",
       "      <td>-3.236680</td>\n",
       "      <td>0.125214</td>\n",
       "      <td>0.239164</td>\n",
       "    </tr>\n",
       "    <tr>\n",
       "      <th>2014-02-01</th>\n",
       "      <td>-3.162347</td>\n",
       "      <td>0.086355</td>\n",
       "      <td>0.119307</td>\n",
       "    </tr>\n",
       "    <tr>\n",
       "      <th>2014-03-01</th>\n",
       "      <td>-3.127475</td>\n",
       "      <td>0.052505</td>\n",
       "      <td>0.143477</td>\n",
       "    </tr>\n",
       "    <tr>\n",
       "      <th>2014-04-01</th>\n",
       "      <td>-3.093313</td>\n",
       "      <td>0.032748</td>\n",
       "      <td>0.089870</td>\n",
       "    </tr>\n",
       "    <tr>\n",
       "      <th>2014-05-01</th>\n",
       "      <td>-3.061565</td>\n",
       "      <td>0.026525</td>\n",
       "      <td>0.046398</td>\n",
       "    </tr>\n",
       "  </tbody>\n",
       "</table>\n",
       "</div>\n",
       "      <button class=\"colab-df-convert\" onclick=\"convertToInteractive('df-72df9d1d-330c-47f5-9f6b-272d441b9f7b')\"\n",
       "              title=\"Convert this dataframe to an interactive table.\"\n",
       "              style=\"display:none;\">\n",
       "        \n",
       "  <svg xmlns=\"http://www.w3.org/2000/svg\" height=\"24px\"viewBox=\"0 0 24 24\"\n",
       "       width=\"24px\">\n",
       "    <path d=\"M0 0h24v24H0V0z\" fill=\"none\"/>\n",
       "    <path d=\"M18.56 5.44l.94 2.06.94-2.06 2.06-.94-2.06-.94-.94-2.06-.94 2.06-2.06.94zm-11 1L8.5 8.5l.94-2.06 2.06-.94-2.06-.94L8.5 2.5l-.94 2.06-2.06.94zm10 10l.94 2.06.94-2.06 2.06-.94-2.06-.94-.94-2.06-.94 2.06-2.06.94z\"/><path d=\"M17.41 7.96l-1.37-1.37c-.4-.4-.92-.59-1.43-.59-.52 0-1.04.2-1.43.59L10.3 9.45l-7.72 7.72c-.78.78-.78 2.05 0 2.83L4 21.41c.39.39.9.59 1.41.59.51 0 1.02-.2 1.41-.59l7.78-7.78 2.81-2.81c.8-.78.8-2.07 0-2.86zM5.41 20L4 18.59l7.72-7.72 1.47 1.35L5.41 20z\"/>\n",
       "  </svg>\n",
       "      </button>\n",
       "      \n",
       "  <style>\n",
       "    .colab-df-container {\n",
       "      display:flex;\n",
       "      flex-wrap:wrap;\n",
       "      gap: 12px;\n",
       "    }\n",
       "\n",
       "    .colab-df-convert {\n",
       "      background-color: #E8F0FE;\n",
       "      border: none;\n",
       "      border-radius: 50%;\n",
       "      cursor: pointer;\n",
       "      display: none;\n",
       "      fill: #1967D2;\n",
       "      height: 32px;\n",
       "      padding: 0 0 0 0;\n",
       "      width: 32px;\n",
       "    }\n",
       "\n",
       "    .colab-df-convert:hover {\n",
       "      background-color: #E2EBFA;\n",
       "      box-shadow: 0px 1px 2px rgba(60, 64, 67, 0.3), 0px 1px 3px 1px rgba(60, 64, 67, 0.15);\n",
       "      fill: #174EA6;\n",
       "    }\n",
       "\n",
       "    [theme=dark] .colab-df-convert {\n",
       "      background-color: #3B4455;\n",
       "      fill: #D2E3FC;\n",
       "    }\n",
       "\n",
       "    [theme=dark] .colab-df-convert:hover {\n",
       "      background-color: #434B5C;\n",
       "      box-shadow: 0px 1px 3px 1px rgba(0, 0, 0, 0.15);\n",
       "      filter: drop-shadow(0px 1px 2px rgba(0, 0, 0, 0.3));\n",
       "      fill: #FFFFFF;\n",
       "    }\n",
       "  </style>\n",
       "\n",
       "      <script>\n",
       "        const buttonEl =\n",
       "          document.querySelector('#df-72df9d1d-330c-47f5-9f6b-272d441b9f7b button.colab-df-convert');\n",
       "        buttonEl.style.display =\n",
       "          google.colab.kernel.accessAllowed ? 'block' : 'none';\n",
       "\n",
       "        async function convertToInteractive(key) {\n",
       "          const element = document.querySelector('#df-72df9d1d-330c-47f5-9f6b-272d441b9f7b');\n",
       "          const dataTable =\n",
       "            await google.colab.kernel.invokeFunction('convertToInteractive',\n",
       "                                                     [key], {});\n",
       "          if (!dataTable) return;\n",
       "\n",
       "          const docLinkHtml = 'Like what you see? Visit the ' +\n",
       "            '<a target=\"_blank\" href=https://colab.research.google.com/notebooks/data_table.ipynb>data table notebook</a>'\n",
       "            + ' to learn more about interactive tables.';\n",
       "          element.innerHTML = '';\n",
       "          dataTable['output_type'] = 'display_data';\n",
       "          await google.colab.output.renderOutput(dataTable, element);\n",
       "          const docLink = document.createElement('div');\n",
       "          docLink.innerHTML = docLinkHtml;\n",
       "          element.appendChild(docLink);\n",
       "        }\n",
       "      </script>\n",
       "    </div>\n",
       "  </div>\n",
       "  "
      ],
      "text/plain": [
       "            logitODR  GDP_C_lg12  MPI_C_lg12\n",
       "Date                                        \n",
       "2014-01-01 -3.236680    0.125214    0.239164\n",
       "2014-02-01 -3.162347    0.086355    0.119307\n",
       "2014-03-01 -3.127475    0.052505    0.143477\n",
       "2014-04-01 -3.093313    0.032748    0.089870\n",
       "2014-05-01 -3.061565    0.026525    0.046398"
      ]
     },
     "execution_count": 3,
     "metadata": {},
     "output_type": "execute_result"
    }
   ],
   "source": [
    "# Create regression DataFrame\n",
    "df = pd.concat(\n",
    "    [\n",
    "        pd.read_csv(\n",
    "            'https://raw.githubusercontent.com/Sarvesh547/Credit-Risk/main/PD/datasets/monthlyODR.csv'\n",
    "        ).query(\n",
    "            \"Segment == 'CU'\"\n",
    "        ).eval(\n",
    "            \"ODR = Bad / N\"\n",
    "        ).eval(\n",
    "            \"logitODR = @logit(ODR)\", engine = 'python'\n",
    "        )['logitODR'],\n",
    "        pd.read_csv(\n",
    "            'https://raw.githubusercontent.com/Sarvesh547/Credit-Risk/main/PD/datasets/macroTransformed.csv',\n",
    "            parse_dates = ['Date'],\n",
    "            date_parser = lambda x: pd.to_datetime(x)\n",
    "        )[['Date', 'GDP_C_lg12', 'MPI_C_lg12']]\n",
    "    ],\n",
    "    axis = 1\n",
    ").set_index('Date')\n",
    "\n",
    "# Show table\n",
    "df.head(5)"
   ]
  },
  {
   "cell_type": "code",
   "execution_count": 4,
   "metadata": {
    "colab": {
     "base_uri": "https://localhost:8080/"
    },
    "id": "6eQwbSSqYtjD",
    "outputId": "f9ef7eb4-180a-472b-c5ed-56ca381a8f03"
   },
   "outputs": [
    {
     "name": "stdout",
     "output_type": "stream",
     "text": [
      "                            OLS Regression Results                            \n",
      "==============================================================================\n",
      "Dep. Variable:               logitODR   R-squared:                       0.688\n",
      "Model:                            OLS   Adj. R-squared:                  0.677\n",
      "Method:                 Least Squares   F-statistic:                     61.68\n",
      "Date:                Mon, 03 Oct 2022   Prob (F-statistic):           6.99e-15\n",
      "Time:                        07:06:03   Log-Likelihood:                 100.82\n",
      "No. Observations:                  59   AIC:                            -195.6\n",
      "Df Residuals:                      56   BIC:                            -189.4\n",
      "Df Model:                           2                                         \n",
      "Covariance Type:            nonrobust                                         \n",
      "==============================================================================\n",
      "                 coef    std err          t      P>|t|      [0.025      0.975]\n",
      "------------------------------------------------------------------------------\n",
      "const         -2.9473      0.019   -155.761      0.000      -2.985      -2.909\n",
      "GDP_C_lg12    -1.9280      0.610     -3.160      0.003      -3.150      -0.706\n",
      "MPI_C_lg12    -0.5150      0.208     -2.476      0.016      -0.932      -0.098\n",
      "==============================================================================\n",
      "Omnibus:                        4.164   Durbin-Watson:                   0.324\n",
      "Prob(Omnibus):                  0.125   Jarque-Bera (JB):                4.704\n",
      "Skew:                           0.047   Prob(JB):                       0.0952\n",
      "Kurtosis:                       4.380   Cond. No.                         109.\n",
      "==============================================================================\n",
      "\n",
      "Notes:\n",
      "[1] Standard Errors assume that the covariance matrix of the errors is correctly specified.\n"
     ]
    }
   ],
   "source": [
    "# Select variables for linear regression model\n",
    "X = sm.add_constant(df[['GDP_C_lg12', 'MPI_C_lg12']]) #Add intercept\n",
    "y = df['logitODR']\n",
    "\n",
    "# Linear regression model\n",
    "model = sm.OLS(y, X)\n",
    "result = model.fit()\n",
    "print(result.summary())"
   ]
  },
  {
   "cell_type": "code",
   "execution_count": 5,
   "metadata": {
    "id": "4RpFLOxQYfLs"
   },
   "outputs": [],
   "source": [
    "# HAC Adjustment\n",
    "newModel = smf.ols(\n",
    "    'logitODR ~ 1 + GDP_C_lg12 + MPI_C_lg12',\n",
    "    data = df\n",
    ")\n",
    "newResult = newModel.fit()"
   ]
  },
  {
   "cell_type": "markdown",
   "metadata": {
    "id": "SPhQrFEulfYz"
   },
   "source": [
    "### Define number of lags\n",
    "There will be 3 ways to define the number of lags used for HAC Adjustment.\n",
    "\n",
    "1.\n",
    "\\begin{align}\n",
    "        Lags = 4\\left(\\frac{T}{100}\\right)^{\\frac{2}{9}}\n",
    "    \\end{align}\n",
    "\n",
    "2.\n",
    "\\begin{align}\n",
    "        Lags = T^{\\frac{1}{4}}\n",
    "    \\end{align}\n",
    "\n",
    "3.\n",
    "\\begin{align}\n",
    "        Lags = None\n",
    "   \\end{align}\n",
    "\n",
    "where;\n",
    "- $T$ is the number of observation in regression model."
   ]
  },
  {
   "cell_type": "code",
   "execution_count": 6,
   "metadata": {
    "colab": {
     "base_uri": "https://localhost:8080/"
    },
    "id": "jIUot0ShaMOs",
    "outputId": "73a56a59-dd2f-418f-d260-f8e74e264d07"
   },
   "outputs": [
    {
     "name": "stdout",
     "output_type": "stream",
     "text": [
      "Number of lags: 3\n",
      "                            OLS Regression Results                            \n",
      "==============================================================================\n",
      "Dep. Variable:               logitODR   R-squared:                       0.688\n",
      "Model:                            OLS   Adj. R-squared:                  0.677\n",
      "Method:                 Least Squares   F-statistic:                     34.50\n",
      "Date:                Mon, 03 Oct 2022   Prob (F-statistic):           1.72e-10\n",
      "Time:                        07:06:03   Log-Likelihood:                 100.82\n",
      "No. Observations:                  59   AIC:                            -195.6\n",
      "Df Residuals:                      56   BIC:                            -189.4\n",
      "Df Model:                           2                                         \n",
      "Covariance Type:                  HAC                                         \n",
      "==============================================================================\n",
      "                 coef    std err          t      P>|t|      [0.025      0.975]\n",
      "------------------------------------------------------------------------------\n",
      "Intercept     -2.9473      0.027   -109.959      0.000      -3.001      -2.894\n",
      "GDP_C_lg12    -1.9280      0.738     -2.613      0.011      -3.406      -0.450\n",
      "MPI_C_lg12    -0.5150      0.218     -2.358      0.022      -0.952      -0.078\n",
      "==============================================================================\n",
      "Omnibus:                        4.164   Durbin-Watson:                   0.324\n",
      "Prob(Omnibus):                  0.125   Jarque-Bera (JB):                4.704\n",
      "Skew:                           0.047   Prob(JB):                       0.0952\n",
      "Kurtosis:                       4.380   Cond. No.                         109.\n",
      "==============================================================================\n",
      "\n",
      "Notes:\n",
      "[1] Standard Errors are heteroscedasticity and autocorrelation robust (HAC) using 3 lags and without small sample correction\n"
     ]
    }
   ],
   "source": [
    "# HAC Result\n",
    "# 1\n",
    "lags = int(4 * (df.shape[0] / 100) ** (2 / 9))\n",
    "print(f'Number of lags: {lags}')\n",
    "\n",
    "HAC = newResult.get_robustcov_results(\n",
    "    cov_type = 'HAC',\n",
    "    maxlags = lags\n",
    ")\n",
    "\n",
    "# Summary\n",
    "print(HAC.summary())"
   ]
  },
  {
   "cell_type": "code",
   "execution_count": 7,
   "metadata": {
    "colab": {
     "base_uri": "https://localhost:8080/"
    },
    "id": "lz1H-kCRldZO",
    "outputId": "e3c8a571-d552-4450-9614-35adf23fd913"
   },
   "outputs": [
    {
     "name": "stdout",
     "output_type": "stream",
     "text": [
      "Number of lags: 2\n",
      "                            OLS Regression Results                            \n",
      "==============================================================================\n",
      "Dep. Variable:               logitODR   R-squared:                       0.688\n",
      "Model:                            OLS   Adj. R-squared:                  0.677\n",
      "Method:                 Least Squares   F-statistic:                     35.09\n",
      "Date:                Mon, 03 Oct 2022   Prob (F-statistic):           1.32e-10\n",
      "Time:                        07:06:03   Log-Likelihood:                 100.82\n",
      "No. Observations:                  59   AIC:                            -195.6\n",
      "Df Residuals:                      56   BIC:                            -189.4\n",
      "Df Model:                           2                                         \n",
      "Covariance Type:                  HAC                                         \n",
      "==============================================================================\n",
      "                 coef    std err          t      P>|t|      [0.025      0.975]\n",
      "------------------------------------------------------------------------------\n",
      "Intercept     -2.9473      0.025   -118.643      0.000      -2.997      -2.898\n",
      "GDP_C_lg12    -1.9280      0.696     -2.770      0.008      -3.323      -0.534\n",
      "MPI_C_lg12    -0.5150      0.213     -2.413      0.019      -0.943      -0.087\n",
      "==============================================================================\n",
      "Omnibus:                        4.164   Durbin-Watson:                   0.324\n",
      "Prob(Omnibus):                  0.125   Jarque-Bera (JB):                4.704\n",
      "Skew:                           0.047   Prob(JB):                       0.0952\n",
      "Kurtosis:                       4.380   Cond. No.                         109.\n",
      "==============================================================================\n",
      "\n",
      "Notes:\n",
      "[1] Standard Errors are heteroscedasticity and autocorrelation robust (HAC) using 2 lags and without small sample correction\n"
     ]
    }
   ],
   "source": [
    "# HAC Result\n",
    "# 2\n",
    "lags = int(df.shape[0] ** (1 / 4))\n",
    "print(f'Number of lags: {lags}')\n",
    "\n",
    "HAC = newResult.get_robustcov_results(\n",
    "    cov_type = 'HAC',\n",
    "    maxlags = lags\n",
    ")\n",
    "\n",
    "# Summary\n",
    "print(HAC.summary())"
   ]
  },
  {
   "cell_type": "code",
   "execution_count": 8,
   "metadata": {
    "colab": {
     "base_uri": "https://localhost:8080/"
    },
    "id": "0zq_iOWepfvF",
    "outputId": "ada265cc-3a33-4b7c-e7f8-1080a57fd3bd"
   },
   "outputs": [
    {
     "name": "stdout",
     "output_type": "stream",
     "text": [
      "Number of lags: None\n",
      "                            OLS Regression Results                            \n",
      "==============================================================================\n",
      "Dep. Variable:               logitODR   R-squared:                       0.688\n",
      "Model:                            OLS   Adj. R-squared:                  0.677\n",
      "Method:                 Least Squares   F-statistic:                     34.50\n",
      "Date:                Mon, 03 Oct 2022   Prob (F-statistic):           1.72e-10\n",
      "Time:                        07:06:04   Log-Likelihood:                 100.82\n",
      "No. Observations:                  59   AIC:                            -195.6\n",
      "Df Residuals:                      56   BIC:                            -189.4\n",
      "Df Model:                           2                                         \n",
      "Covariance Type:                  HAC                                         \n",
      "==============================================================================\n",
      "                 coef    std err          t      P>|t|      [0.025      0.975]\n",
      "------------------------------------------------------------------------------\n",
      "Intercept     -2.9473      0.027   -109.959      0.000      -3.001      -2.894\n",
      "GDP_C_lg12    -1.9280      0.738     -2.613      0.011      -3.406      -0.450\n",
      "MPI_C_lg12    -0.5150      0.218     -2.358      0.022      -0.952      -0.078\n",
      "==============================================================================\n",
      "Omnibus:                        4.164   Durbin-Watson:                   0.324\n",
      "Prob(Omnibus):                  0.125   Jarque-Bera (JB):                4.704\n",
      "Skew:                           0.047   Prob(JB):                       0.0952\n",
      "Kurtosis:                       4.380   Cond. No.                         109.\n",
      "==============================================================================\n",
      "\n",
      "Notes:\n",
      "[1] Standard Errors are heteroscedasticity and autocorrelation robust (HAC) using None lags and without small sample correction\n"
     ]
    }
   ],
   "source": [
    "# HAC Result\n",
    "# 3\n",
    "lags = None\n",
    "print(f'Number of lags: {lags}')\n",
    "\n",
    "HAC = newResult.get_robustcov_results(\n",
    "    cov_type = 'HAC',\n",
    "    maxlags = lags\n",
    ")\n",
    "\n",
    "# Summary\n",
    "print(HAC.summary())"
   ]
  }
 ],
 "metadata": {
  "colab": {
   "authorship_tag": "ABX9TyNrxXlv2GuWJmELb2/Kkpa+",
   "collapsed_sections": [],
   "include_colab_link": true,
   "provenance": []
  },
  "kernelspec": {
   "display_name": "Python 3 (ipykernel)",
   "language": "python",
   "name": "python3"
  },
  "language_info": {
   "codemirror_mode": {
    "name": "ipython",
    "version": 3
   },
   "file_extension": ".py",
   "mimetype": "text/x-python",
   "name": "python",
   "nbconvert_exporter": "python",
   "pygments_lexer": "ipython3",
   "version": "3.9.12"
  }
 },
 "nbformat": 4,
 "nbformat_minor": 1
}
